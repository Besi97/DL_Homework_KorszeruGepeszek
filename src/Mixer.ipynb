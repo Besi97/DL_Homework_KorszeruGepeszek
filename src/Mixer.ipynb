{
  "nbformat": 4,
  "nbformat_minor": 0,
  "metadata": {
    "colab": {
      "name": "Mixer.ipynb",
      "provenance": [],
      "collapsed_sections": [],
      "toc_visible": true,
      "machine_shape": "hm"
    },
    "kernelspec": {
      "name": "python3",
      "display_name": "Python 3"
    }
  },
  "cells": [
    {
      "cell_type": "markdown",
      "metadata": {
        "id": "bmIDJViuClCz",
        "colab_type": "text"
      },
      "source": [
        "# Mixing different signals for input data creation"
      ]
    },
    {
      "cell_type": "markdown",
      "metadata": {
        "id": "_fx-Vb-jCwxS",
        "colab_type": "text"
      },
      "source": [
        "## Imports and drive mounting"
      ]
    },
    {
      "cell_type": "code",
      "metadata": {
        "id": "U5lj4ac6LWA6",
        "colab_type": "code",
        "outputId": "e2812f7e-bcf7-45ac-9b74-9cc5058447ae",
        "colab": {
          "base_uri": "https://localhost:8080/",
          "height": 131
        }
      },
      "source": [
        "from google.colab import drive\n",
        "drive.mount('/content/gdrive')"
      ],
      "execution_count": 0,
      "outputs": [
        {
          "output_type": "stream",
          "text": [
            "Go to this URL in a browser: https://accounts.google.com/o/oauth2/auth?client_id=947318989803-6bn6qk8qdgf4n4g3pfee6491hc0brc4i.apps.googleusercontent.com&redirect_uri=urn%3aietf%3awg%3aoauth%3a2.0%3aoob&response_type=code&scope=email%20https%3a%2f%2fwww.googleapis.com%2fauth%2fdocs.test%20https%3a%2f%2fwww.googleapis.com%2fauth%2fdrive%20https%3a%2f%2fwww.googleapis.com%2fauth%2fdrive.photos.readonly%20https%3a%2f%2fwww.googleapis.com%2fauth%2fpeopleapi.readonly\n",
            "\n",
            "Enter your authorization code:\n",
            "··········\n",
            "Mounted at /content/gdrive\n"
          ],
          "name": "stdout"
        }
      ]
    },
    {
      "cell_type": "code",
      "metadata": {
        "id": "k2IKorK5LRys",
        "colab_type": "code",
        "colab": {}
      },
      "source": [
        "import librosa\n",
        "import numpy as np\n",
        "import os\n",
        "from os import listdir\n",
        "from os.path import isfile, join"
      ],
      "execution_count": 0,
      "outputs": []
    },
    {
      "cell_type": "code",
      "metadata": {
        "id": "kthL3WeLbXeX",
        "colab_type": "code",
        "colab": {}
      },
      "source": [
        "import sys\n",
        "sys.path.append('/content/gdrive/My Drive/Nagy házi/')\n",
        "from audio_masking import *"
      ],
      "execution_count": 0,
      "outputs": []
    },
    {
      "cell_type": "code",
      "metadata": {
        "id": "LnOlFmYALZYv",
        "colab_type": "code",
        "outputId": "53875a8d-d46f-4818-8962-1cb77888079c",
        "colab": {
          "base_uri": "https://localhost:8080/",
          "height": 36
        }
      },
      "source": [
        "baseFolder = \"/content/gdrive/My Drive/Nagy házi/audiobooks/single_stft\"\n",
        "baseFileNames = [(baseFolder + os.sep + f) for f in listdir(baseFolder) if isfile(join(baseFolder, f))]\n",
        "print(len(baseFileNames))"
      ],
      "execution_count": 0,
      "outputs": [
        {
          "output_type": "stream",
          "text": [
            "3387\n"
          ],
          "name": "stdout"
        }
      ]
    },
    {
      "cell_type": "markdown",
      "metadata": {
        "id": "sw07S_fpDQyF",
        "colab_type": "text"
      },
      "source": [
        "## Extracting speakers"
      ]
    },
    {
      "cell_type": "markdown",
      "metadata": {
        "id": "oJrhJ5esGT0v",
        "colab_type": "text"
      },
      "source": [
        "Identifying the 10 different speakers and storing their names"
      ]
    },
    {
      "cell_type": "code",
      "metadata": {
        "id": "I_EFAeteLf0p",
        "colab_type": "code",
        "outputId": "c730a5ea-da31-40d9-a052-19bc1bd1e9d0",
        "colab": {
          "base_uri": "https://localhost:8080/",
          "height": 243
        }
      },
      "source": [
        "speakers = []\n",
        "\n",
        "for bfn in baseFileNames:\n",
        "  speaker = \"_\".join(bfn.split(\"__\")[-1].split(\"_\")[:-1])\n",
        "  if(speaker not in speakers):\n",
        "    speakers.append(speaker)\n",
        "    print(\"Added: \" + speaker)\n",
        "\n",
        "print(speakers)"
      ],
      "execution_count": 0,
      "outputs": [
        {
          "output_type": "stream",
          "text": [
            "Added: Joseph_Ugoretz\n",
            "Added: Rosalind_Wills\n",
            "Added: Debra_Lynn\n",
            "Added: Stewart_Wills\n",
            "Added: Paul_Hansen\n",
            "Added: Zachary_Brewster-Geisz\n",
            "Added: Jemma_Blythe\n",
            "Added: Kristen_Ferreri\n",
            "Added: Graham_Thomsen\n",
            "Added: Stuart_Bell\n",
            "['Joseph_Ugoretz', 'Rosalind_Wills', 'Debra_Lynn', 'Stewart_Wills', 'Paul_Hansen', 'Zachary_Brewster-Geisz', 'Jemma_Blythe', 'Kristen_Ferreri', 'Graham_Thomsen', 'Stuart_Bell']\n"
          ],
          "name": "stdout"
        }
      ]
    },
    {
      "cell_type": "markdown",
      "metadata": {
        "id": "G1viZS6q4YjA",
        "colab_type": "text"
      },
      "source": [
        "## Creating pairs"
      ]
    },
    {
      "cell_type": "markdown",
      "metadata": {
        "id": "8c7D7V3ZGc9P",
        "colab_type": "text"
      },
      "source": [
        "The following code is for pairing randomly selected 5s length signals from different speakers. Duplicate pairing is taken into consideration and is prohibited. \n",
        "\n",
        "The workflow of the program:\n",
        "\n",
        "\n",
        "1.   Choosing a speaker form the ten\n",
        "2.   Selecting N random utterances\n",
        "3.   Choosing M utterances to each one from all the other speakers\n",
        "4.   Creating pairs \n",
        "5.   Continue with next speaker (number of options decreases in each iteration)\n",
        "\n"
      ]
    },
    {
      "cell_type": "code",
      "metadata": {
        "id": "5Z5J7yWDy8qn",
        "colab_type": "code",
        "colab": {}
      },
      "source": [
        "N = 10\n",
        "M = 11"
      ],
      "execution_count": 0,
      "outputs": []
    },
    {
      "cell_type": "code",
      "metadata": {
        "id": "2UA9xi8RM_nR",
        "colab_type": "code",
        "outputId": "93543572-3b31-4eb4-f288-7ce950e8fe2f",
        "colab": {
          "base_uri": "https://localhost:8080/",
          "height": 36
        }
      },
      "source": [
        "import random\n",
        "random.seed(123)\n",
        "np.random.seed(123)\n",
        "\n",
        "pairs = []\n",
        "alreadySelected = []\n",
        "for speaker1 in speakers:\n",
        "  selected1 = [bfn for bfn in baseFileNames if (speaker1 in bfn)]\n",
        "  alreadySelected.append(speaker1)\n",
        "  indices1 = random.sample(range(len(selected1)), N)\n",
        "  for i in range(N):\n",
        "    utterance1 = selected1[indices1[i]]\n",
        "    for speaker2 in [s for s in speakers if(s not in alreadySelected)]:\n",
        "      selected2 = [bfn for bfn in baseFileNames if (speaker2 in bfn)]\n",
        "      indices2 = random.sample(range(len(selected2)), M)\n",
        "      for j in range(M):\n",
        "        utterance2 = selected2[indices2[j]]\n",
        "        pairs.append([utterance1, utterance2])\n",
        "\n",
        "len(pairs)"
      ],
      "execution_count": 0,
      "outputs": [
        {
          "output_type": "execute_result",
          "data": {
            "text/plain": [
              "4950"
            ]
          },
          "metadata": {
            "tags": []
          },
          "execution_count": 9
        }
      ]
    },
    {
      "cell_type": "code",
      "metadata": {
        "id": "68Y9wvynfgHE",
        "colab_type": "code",
        "outputId": "e37cdaf5-c71b-48e1-9c56-c05479d83e61",
        "colab": {
          "base_uri": "https://localhost:8080/",
          "height": 74
        }
      },
      "source": [
        "pairs[0]"
      ],
      "execution_count": 0,
      "outputs": [
        {
          "output_type": "execute_result",
          "data": {
            "text/plain": [
              "['/content/gdrive/My Drive/Nagy házi/audiobooks/single_stft/hardtimes_04_dickens__Joseph_Ugoretz_192.npy',\n",
              " '/content/gdrive/My Drive/Nagy házi/audiobooks/single_stft/hardtimes_03_dickens__Rosalind_Wills_118.npy']"
            ]
          },
          "metadata": {
            "tags": []
          },
          "execution_count": 10
        }
      ]
    },
    {
      "cell_type": "markdown",
      "metadata": {
        "id": "_jBG7jkOMuXK",
        "colab_type": "text"
      },
      "source": [
        "Loading first pair for later shaping"
      ]
    },
    {
      "cell_type": "code",
      "metadata": {
        "id": "le1vCtn5a532",
        "colab_type": "code",
        "outputId": "de694108-a570-418a-c766-d9f192d80aef",
        "colab": {
          "base_uri": "https://localhost:8080/",
          "height": 36
        }
      },
      "source": [
        "X0=np.load(pairs[0][0], allow_pickle=False, fix_imports=True)\n",
        "outputShape = len(pairs), 3, *X0.shape\n",
        "outputArray = np.ndarray(outputShape, dtype=np.abs(X0).dtype)\n",
        "outputArray.shape"
      ],
      "execution_count": 0,
      "outputs": [
        {
          "output_type": "execute_result",
          "data": {
            "text/plain": [
              "(4950, 3, 257, 431)"
            ]
          },
          "metadata": {
            "tags": []
          },
          "execution_count": 11
        }
      ]
    },
    {
      "cell_type": "code",
      "metadata": {
        "id": "H1KmcKVIhHgF",
        "colab_type": "code",
        "outputId": "d6b918c6-1675-4075-daab-157837d98e45",
        "colab": {
          "base_uri": "https://localhost:8080/",
          "height": 36
        }
      },
      "source": [
        "np.abs(X0).dtype"
      ],
      "execution_count": 0,
      "outputs": [
        {
          "output_type": "execute_result",
          "data": {
            "text/plain": [
              "dtype('float32')"
            ]
          },
          "metadata": {
            "tags": []
          },
          "execution_count": 12
        }
      ]
    },
    {
      "cell_type": "markdown",
      "metadata": {
        "id": "hoZryM5KNBjv",
        "colab_type": "text"
      },
      "source": [
        "Loading each pair to the output array"
      ]
    },
    {
      "cell_type": "code",
      "metadata": {
        "id": "bAHacKG6PmpR",
        "colab_type": "code",
        "outputId": "7c74182f-d6bf-4706-8038-1b20dbfdd4bd",
        "colab": {
          "base_uri": "https://localhost:8080/",
          "height": 36
        }
      },
      "source": [
        "from math import floor\n",
        "counter = 0\n",
        "percentage = 0\n",
        "for pair in pairs:\n",
        "  X1 = np.load(pair[0], allow_pickle=False, fix_imports=True)\n",
        "  X2 = np.load(pair[1], allow_pickle=False, fix_imports=True)\n",
        "  YAbs = np.abs(X1 + X2)\n",
        "  outputArray[counter] = np.array([YAbs, np.abs(X1), np.abs(X2)])\n",
        "  counter += 1\n",
        "  \n",
        "  if floor(counter/len(pairs)*100) > percentage:\n",
        "    percentage = floor(counter/len(pairs)*100)\n",
        "    print(\"\\r\", str(percentage)+'%', end=\"\")"
      ],
      "execution_count": 0,
      "outputs": [
        {
          "output_type": "stream",
          "text": [
            " 100%"
          ],
          "name": "stdout"
        }
      ]
    },
    {
      "cell_type": "code",
      "metadata": {
        "id": "8Hm_rk5cy8HI",
        "colab_type": "code",
        "outputId": "c48a0d08-aca2-47d9-a6b2-35f6746b3645",
        "colab": {
          "base_uri": "https://localhost:8080/",
          "height": 36
        }
      },
      "source": [
        "outputArray[0,0].dtype"
      ],
      "execution_count": 0,
      "outputs": [
        {
          "output_type": "execute_result",
          "data": {
            "text/plain": [
              "dtype('float32')"
            ]
          },
          "metadata": {
            "tags": []
          },
          "execution_count": 14
        }
      ]
    },
    {
      "cell_type": "code",
      "metadata": {
        "id": "7AKypdpD9B0U",
        "colab_type": "code",
        "outputId": "d5e778cf-964f-450c-c197-4ba90024f9c8",
        "colab": {
          "base_uri": "https://localhost:8080/",
          "height": 73
        }
      },
      "source": [
        "print(outputArray[0].shape)\n",
        "print(outputArray[0, 0].shape)\n",
        "print(np.atleast_3d(outputArray[0, 0]).shape)"
      ],
      "execution_count": 0,
      "outputs": [
        {
          "output_type": "stream",
          "text": [
            "(3, 257, 431)\n",
            "(257, 431)\n",
            "(257, 431, 1)\n"
          ],
          "name": "stdout"
        }
      ]
    },
    {
      "cell_type": "markdown",
      "metadata": {
        "id": "Og5YW8h34fn0",
        "colab_type": "text"
      },
      "source": [
        "## Saving dataset"
      ]
    },
    {
      "cell_type": "markdown",
      "metadata": {
        "id": "q9P8JakoNQqq",
        "colab_type": "text"
      },
      "source": [
        "Splitting data to train, validation and test sets"
      ]
    },
    {
      "cell_type": "code",
      "metadata": {
        "id": "YkJiIS9ykJS9",
        "colab_type": "code",
        "colab": {}
      },
      "source": [
        "indices = random.sample(range(len(outputArray)), len(outputArray))\n",
        "trainIndices = indices[:int(len(indices)*0.9)]\n",
        "validIndices = indices[int(len(indices)*0.9):int(len(indices)*0.95)]\n",
        "testIndices = indices[int(len(indices)*0.95):len(indices)]"
      ],
      "execution_count": 0,
      "outputs": []
    },
    {
      "cell_type": "markdown",
      "metadata": {
        "id": "kAb9zO3tNh1g",
        "colab_type": "text"
      },
      "source": [
        "Creating datasets and saving them in hdf5 format"
      ]
    },
    {
      "cell_type": "code",
      "metadata": {
        "id": "AtUFM1MAlVZN",
        "colab_type": "code",
        "outputId": "05869e2e-f577-41bf-cf0d-8ad933e5195b",
        "colab": {
          "base_uri": "https://localhost:8080/",
          "height": 36
        }
      },
      "source": [
        "import h5py\n",
        "h5Path = \"/content/gdrive/My Drive/Nagy házi/audiobooks/train_data/data2.hdf5\"\n",
        "\n",
        "if os.path.isfile(h5Path):\n",
        "  os.remove(h5Path)\n",
        "\n",
        "counter = 0\n",
        "percentage = 0\n",
        "with h5py.File(h5Path, \"a\") as f:\n",
        "  trainInputSet = f.create_dataset(\"trainInput\", shape=(len(trainIndices), *X0.shape, 1), dtype = outputArray[0,0].dtype, chunks=(5, *X0.shape, 1))\n",
        "  trainOutputSet = f.create_dataset(\"trainOutput\", shape=(len(trainIndices), *X0.shape, 3), dtype = outputArray[0,1].dtype, chunks=(5, *X0.shape, 3))\n",
        "  validInputSet = f.create_dataset(\"validInput\", shape=(len(validIndices), *X0.shape, 1), dtype = outputArray[0,0].dtype, chunks=(5, *X0.shape, 1))\n",
        "  validOutputSet = f.create_dataset(\"validOutput\", shape=(len(validIndices), *X0.shape, 3), dtype = outputArray[0,1].dtype, chunks=(5, *X0.shape, 3))\n",
        "  testInputSet = f.create_dataset(\"testInput\", shape=(len(testIndices), *X0.shape, 1), dtype = outputArray[0,0].dtype, chunks=(5, *X0.shape, 1))\n",
        "  testOutputSet = f.create_dataset(\"testOutput\", shape=(len(testIndices), *X0.shape, 3), dtype = outputArray[0,1].dtype, chunks=(5, *X0.shape, 3))\n",
        "\n",
        "  for i in range(len(trainIndices)):\n",
        "    trainInputSet[i] = np.atleast_3d(outputArray[trainIndices[i], 0])\n",
        "    # trainOutputSet[i] = outputArray[trainIndices[i]]\n",
        "    toPersist = np.ndarray((257, 431, 3), dtype=np.abs(X0).dtype)\n",
        "    for x in range(257):\n",
        "      for y in range(431):\n",
        "        for z in range(3):\n",
        "          toPersist[x, y, z] = outputArray[trainIndices[i], z, x, y]\n",
        "    trainOutputSet[i] = toPersist\n",
        "    counter += 1\n",
        "    if floor(counter/len(outputArray)*100) > percentage:\n",
        "      percentage = floor(counter/len(outputArray)*100)\n",
        "      print(\"\\r\", str(percentage)+'%', end=\"\")\n",
        "\n",
        "  for i in range(len(validIndices)):\n",
        "    validInputSet[i] = np.atleast_3d(outputArray[validIndices[i], 0])\n",
        "    #validOutputSet[i] = outputArray[validIndices[i]]\n",
        "    toPersist = np.ndarray((257, 431, 3), dtype=np.abs(X0).dtype)\n",
        "    for x in range(257):\n",
        "      for y in range(431):\n",
        "        for z in range(3):\n",
        "          toPersist[x, y, z] = outputArray[validIndices[i], z, x, y]\n",
        "    validOutputSet[i] = toPersist\n",
        "    counter += 1\n",
        "    if floor(counter/len(outputArray)*100) > percentage:\n",
        "      percentage = floor(counter/len(outputArray)*100)\n",
        "      print(\"\\r\", str(percentage)+'%', end=\"\")\n",
        "\n",
        "  for i in range(len(testIndices)):\n",
        "    testInputSet[i] = np.atleast_3d(outputArray[testIndices[i], 0])\n",
        "    #testOutputSet[i] = outputArray[testIndices[i]]\n",
        "    toPersist = np.ndarray((257, 431, 3), dtype=np.abs(X0).dtype)\n",
        "    for x in range(257):\n",
        "      for y in range(431):\n",
        "        for z in range(3):\n",
        "          toPersist[x, y, z] = outputArray[testIndices[i], z, x, y]\n",
        "    testOutputSet[i] = toPersist\n",
        "    counter += 1\n",
        "    if floor(counter/len(outputArray)*100) > percentage:\n",
        "      percentage = floor(counter/len(outputArray)*100)\n",
        "      print(\"\\r\", str(percentage)+'%', end=\"\")\n"
      ],
      "execution_count": 0,
      "outputs": [
        {
          "output_type": "stream",
          "text": [
            " 100%"
          ],
          "name": "stdout"
        }
      ]
    },
    {
      "cell_type": "markdown",
      "metadata": {
        "id": "olTH7U3e0u6L",
        "colab_type": "text"
      },
      "source": [
        "Saving the relationship between dataset indices and original files"
      ]
    },
    {
      "cell_type": "code",
      "metadata": {
        "colab_type": "code",
        "id": "YTY35m34xM74",
        "colab": {}
      },
      "source": [
        "import pandas as pd\n",
        "import os\n",
        "\n",
        "trainPairIndicesPath = \"/content/gdrive/My Drive/Nagy házi/audiobooks/train_data/train_pair_indices.csv\"\n",
        "validPairIndicesPath = \"/content/gdrive/My Drive/Nagy házi/audiobooks/train_data/valid_pair_indices.csv\"\n",
        "testPairIndicesPath = \"/content/gdrive/My Drive/Nagy házi/audiobooks/train_data/test_pair_indices.csv\"\n",
        "\n",
        "if os.path.isfile(trainPairIndicesPath):\n",
        "  os.remove(trainPairIndicesPath)\n",
        "\n",
        "if os.path.isfile(validPairIndicesPath):\n",
        "  os.remove(validPairIndicesPath)\n",
        "\n",
        "if os.path.isfile(testPairIndicesPath):\n",
        "  os.remove(testPairIndicesPath)\n",
        "\n",
        "\n",
        "df = pd.DataFrame(data=None)\n",
        "for i in range(len(trainIndices)):\n",
        "  df = df.append([pairs[trainIndices[i]]])\n",
        "df.to_csv(trainPairIndicesPath)\n",
        "\n",
        "df = pd.DataFrame(data=None)\n",
        "for i in range(len(validIndices)):\n",
        "  df = df.append([pairs[validIndices[i]]])\n",
        "df.to_csv(validPairIndicesPath)\n",
        "\n",
        "df = pd.DataFrame(data=None)\n",
        "for i in range(len(testIndices)):\n",
        "  df = df.append([pairs[testIndices[i]]])\n",
        "df.to_csv(testPairIndicesPath)"
      ],
      "execution_count": 0,
      "outputs": []
    },
    {
      "cell_type": "code",
      "metadata": {
        "id": "-h-cHUYZyFwi",
        "colab_type": "code",
        "colab": {}
      },
      "source": [
        "drive.flush_and_unmount()"
      ],
      "execution_count": 0,
      "outputs": []
    },
    {
      "cell_type": "code",
      "metadata": {
        "id": "Otxz-65IbNeH",
        "colab_type": "code",
        "colab": {}
      },
      "source": [
        ""
      ],
      "execution_count": 0,
      "outputs": []
    }
  ]
}